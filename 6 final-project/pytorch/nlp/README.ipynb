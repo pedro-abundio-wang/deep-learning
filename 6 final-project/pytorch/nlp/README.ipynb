{
 "cells": [
  {
   "cell_type": "markdown",
   "metadata": {},
   "source": [
    "# Named Entity Recognition with PyTorch\n",
    "\n",
    "_Authors: Surag Nair, Guillaume Genthial and Olivier Moindrot_\n",
    "\n",
    "Note : all scripts must be run in `pytorch/nlp`.\n",
    "\n",
    "## Task\n",
    "\n",
    "Given a sentence, give a tag to each word ([Named Entity Recognition](https://en.wikipedia.org/wiki/Named-entity_recognition))\n",
    "\n",
    "```\n",
    "John   lives in New   York\n",
    "B-PER  O     O  B-LOC I-LOC\n",
    "```\n",
    "\n",
    "## [optional] Download the Kaggle dataset (~5 min)\n",
    "\n",
    "We provide a small subset of the kaggle dataset (30 sentences) for testing in `data/small` but you are encouraged to download the original version on the [Kaggle](https://www.kaggle.com/abhinavwalia95/entity-annotated-corpus/data) website.\n",
    "\n",
    "1. **Download the dataset** `ner_dataset.csv` on [Kaggle](https://www.kaggle.com/abhinavwalia95/entity-annotated-corpus/data) and save it under the `nlp/data/kaggle` directory. Make sure you download the simple version `ner_dataset.csv` and NOT the full version `ner.csv`.\n",
    "\n",
    "2. **Build the dataset** Run the following script\n",
    "\n",
    "```\n",
    "python build_kaggle_dataset.py\n",
    "```\n",
    "\n",
    "It will extract the sentences and labels from the dataset, split it into train/val/test and save it in a convenient format for our model.\n",
    "\n",
    "_Debug_ If you get some errors, check that you downloaded the right file and saved it in the right directory. If you have issues with encoding, try running the script with python 2.7.\n",
    "\n",
    "3. In the next section, change `data/small` by `data/kaggle`\n",
    "\n",
    "## Quickstart (~10 min)\n",
    "\n",
    "1. **Build** vocabularies and parameters for your dataset by running\n",
    "\n",
    "```\n",
    "python build_vocab.py --data_dir data/small\n",
    "```\n",
    "\n",
    "It will write vocabulary files `words.txt` and `tags.txt` containing the words and tags in the dataset. It will also save a `dataset_params.json` with some extra information.\n",
    "\n"
   ]
  },
  {
   "cell_type": "code",
   "execution_count": 1,
   "metadata": {},
   "outputs": [
    {
     "name": "stdout",
     "output_type": "stream",
     "text": [
      "Building word vocabulary...\r\n",
      "- done.\r\n",
      "Building tag vocabulary...\r\n",
      "- done.\r\n",
      "Saving vocabularies to file...\r\n",
      "- done.\r\n",
      "Characteristics of the dataset:\r\n",
      "- train_size: 10\r\n",
      "- dev_size: 10\r\n",
      "- test_size: 10\r\n",
      "- vocab_size: 368\r\n",
      "- number_of_tags: 9\r\n",
      "- pad_word: <pad>\r\n",
      "- pad_tag: O\r\n",
      "- unk_word: UNK\r\n"
     ]
    }
   ],
   "source": [
    "!python build_vocab.py --data_dir data/small"
   ]
  },
  {
   "cell_type": "markdown",
   "metadata": {},
   "source": [
    "2. **Your first experiment** We created a `base_model` directory for you under the `experiments` directory. It contains a file `params.json` which sets the hyperparameters for the experiment. It looks like\n",
    "\n",
    "```json\n",
    "{\n",
    "  \"learning_rate\": 1e-3,\n",
    "  \"batch_size\": 5,\n",
    "  \"num_epochs\": 2\n",
    "}\n",
    "```\n",
    "\n",
    "For every new experiment, you will need to create a new directory under `experiments` with a `params.json` file.\n",
    "\n",
    "3. **Train** your experiment. Simply run\n",
    "\n",
    "```\n",
    "python train.py --data_dir data/small --model_dir experiments/base_model\n",
    "```\n",
    "\n",
    "It will instantiate a model and train it on the training set following the hyperparameters specified in `params.json`. It will also evaluate some metrics on the development set."
   ]
  },
  {
   "cell_type": "code",
   "execution_count": null,
   "metadata": {},
   "outputs": [],
   "source": [
    "!python train.py --data_dir data/small --model_dir experiments/base_model"
   ]
  },
  {
   "cell_type": "markdown",
   "metadata": {},
   "source": [
    "4. **Your first hyperparameters search** We created a new directory `learning_rate` in `experiments` for you. Now, run\n",
    "\n",
    "```\n",
    "python search_hyperparams.py --data_dir data/small --parent_dir experiments/learning_rate\n",
    "```\n",
    "\n",
    "It will train and evaluate a model with different values of learning rate defined in `search_hyperparams.py` and create a new directory for each experiment under `experiments/learning_rate/`.\n",
    "\n",
    "5. **Display the results** of the hyperparameters search in a nice format\n",
    "\n",
    "```\n",
    "python synthesize_results.py --parent_dir experiments/learning_rate\n",
    "```\n",
    "\n",
    "6. **Evaluation on the test set** Once you've run many experiments and selected your best model and hyperparameters based on the performance on the development set, you can finally evaluate the performance of your model on the test set. Run\n",
    "\n",
    "```\n",
    "python evaluate.py --data_dir data/small --model_dir experiments/base_model\n",
    "```\n",
    "\n",
    "## Guidelines for more advanced use\n",
    "\n",
    "We recommend reading through `train.py` to get a high-level overview of the training loop steps:\n",
    "\n",
    "- loading the hyperparameters for the experiment (the `params.json`)\n",
    "- loading the training and validation data\n",
    "- creating the model, loss_fn and metrics\n",
    "- training the model for a given number of epochs by calling `train_and_evaluate(...)`\n",
    "\n",
    "You can then go through `model/data_loader.py` to understand the following steps:\n",
    "\n",
    "- loading the vocabularies from the `words.txt` and `tags.txt` files\n",
    "- creating the sentences/labels datasets from the text files\n",
    "- how the vocabulary is used to map tokens to their indices\n",
    "- how the `data_iterator` creates a batch of data and labels and pads sentences\n",
    "\n",
    "Once you get the high-level idea, depending on your dataset, you might want to modify\n",
    "\n",
    "- `model/model.py` to change the neural network, loss function and metrics\n",
    "- `model/data_loader.py` to suit the data loader to your specific needs\n",
    "- `train.py` for changing the optimizer\n",
    "- `train.py` and `evaluate.py` for some changes in the model or input require changes here\n",
    "\n",
    "Once you get something working for your dataset, feel free to edit any part of the code to suit your own needs.\n",
    "\n",
    "## Resources\n",
    "\n",
    "- [PyTorch documentation](http://pytorch.org/docs/1.2.0/)\n",
    "- [Tutorials](http://pytorch.org/tutorials/)\n",
    "- [PyTorch warm-up](https://github.com/jcjohnson/pytorch-examples)"
   ]
  }
 ],
 "metadata": {
  "kernelspec": {
   "display_name": "Python 3",
   "language": "python",
   "name": "python3"
  },
  "language_info": {
   "codemirror_mode": {
    "name": "ipython",
    "version": 3
   },
   "file_extension": ".py",
   "mimetype": "text/x-python",
   "name": "python",
   "nbconvert_exporter": "python",
   "pygments_lexer": "ipython3",
   "version": "3.6.9"
  }
 },
 "nbformat": 4,
 "nbformat_minor": 2
}
